{
 "cells": [
  {
   "cell_type": "markdown",
   "metadata": {},
   "source": [
    "# 运行"
   ]
  },
  {
   "cell_type": "code",
   "execution_count": null,
   "metadata": {
    "collapsed": false,
    "outputHidden": false,
    "inputHidden": false
   },
   "outputs": [],
   "source": [
    "from tianyancha import Tianyancha"
   ]
  },
  {
   "cell_type": "code",
   "execution_count": 2,
   "metadata": {
    "collapsed": false,
    "outputHidden": false,
    "inputHidden": false
   },
   "outputs": [
    {
     "name": "stdout",
     "output_type": "stream",
     "text": [
      "登录过程中请勿操作鼠标键盘！请保持优雅勿频繁（间隔小于1分钟）登录以减轻服务器负载。\n",
      "您的本次登录共用时8秒。\n",
      "登陆成功。\n",
      "正在爬取baseInfo\n",
      "正在爬取staff\n",
      "没有翻页\n",
      "没有时间切换页\n",
      "您的本次爬取共用时12秒。\n"
     ]
    }
   ],
   "source": [
    "table_dict = Tianyancha('13488895246', 'abcd1234').tianyancha_scraper('中信证券股份有限公司',table=['baseInfo','staff'], export='json')"
   ]
  },
  {
   "cell_type": "markdown",
   "metadata": {},
   "source": [
    "# 模拟登陆：Cookies"
   ]
  },
  {
   "cell_type": "code",
   "execution_count": null,
   "metadata": {
    "collapsed": true
   },
   "outputs": [],
   "source": [
    "f = open('cookies.txt', 'r')\n",
    "dic_cookies = {}\n",
    "for line in f:\n",
    "    print (line)\n",
    "    listedline = line.split('\t') # split around the = sign\n",
    "    if len(listedline) > 1: # we have the = sign in there\n",
    "    dic_cookies[listedline[0]] = listedline[1]"
   ]
  },
  {
   "cell_type": "code",
   "execution_count": null,
   "metadata": {
    "collapsed": false,
    "outputHidden": false,
    "inputHidden": false
   },
   "outputs": [],
   "source": [
    "import pandas as pd"
   ]
  },
  {
   "cell_type": "code",
   "execution_count": null,
   "metadata": {
    "collapsed": false,
    "outputHidden": false,
    "inputHidden": false
   },
   "outputs": [],
   "source": [
    "df = pd.read_csv('cookies_2.txt', header=None, sep='\\t')\n",
    "df.columns = ['domain', 'httpOnly', 'path', 'secure', 'expiry', 'name', 'value']"
   ]
  },
  {
   "cell_type": "code",
   "execution_count": null,
   "metadata": {
    "collapsed": false,
    "outputHidden": false,
    "inputHidden": false
   },
   "outputs": [],
   "source": [
    "df.to_json('cookies.txt', orient='records')"
   ]
  },
  {
   "cell_type": "code",
   "execution_count": null,
   "metadata": {
    "collapsed": false,
    "outputHidden": false,
    "inputHidden": false
   },
   "outputs": [],
   "source": [
    "from fake_useragent import UserAgent"
   ]
  },
  {
   "cell_type": "code",
   "execution_count": null,
   "metadata": {
    "collapsed": false,
    "outputHidden": false,
    "inputHidden": false
   },
   "outputs": [],
   "source": [
    "UserAgent(cache=False, use_cache_server=False, verify_ssl=False)#.chrome"
   ]
  },
  {
   "cell_type": "markdown",
   "metadata": {},
   "source": [
    "# 模拟登陆：GUI自动化"
   ]
  },
  {
   "cell_type": "code",
   "execution_count": null,
   "metadata": {
    "collapsed": false,
    "outputHidden": false,
    "inputHidden": false
   },
   "outputs": [],
   "source": [
    "import pyautogui"
   ]
  },
  {
   "cell_type": "code",
   "execution_count": null,
   "metadata": {
    "collapsed": false,
    "outputHidden": false,
    "inputHidden": false
   },
   "outputs": [],
   "source": [
    "%%time\n",
    "\n",
    "# 防止用户已经将选项卡切换到了\"密码登录\"使得login_option.png因为下方出现蓝色小条而无法匹配，使用Try-Except提高程序稳健性\n",
    "try:\n",
    "    x, y = pyautogui.locateCenterOnScreen('login_option.png')\n",
    "    print (x, y)\n",
    "    pyautogui.click(x, y)\n",
    "except:\n",
    "    pass\n",
    "    \n",
    "x, y = pyautogui.locateCenterOnScreen('login_id.png')\n",
    "print (x, y)\n",
    "pyautogui.click(x, y)\n",
    "pyautogui.typewrite(self.username)\n",
    "\n",
    "x, y = pyautogui.locateCenterOnScreen('login_password.png')\n",
    "print (x, y)\n",
    "pyautogui.click(x, y)\n",
    "pyautogui.typewrite(self.password)\n",
    "\n",
    "x, y = pyautogui.locateCenterOnScreen('login_button.png')\n",
    "print (x, y)\n",
    "pyautogui.click(x, y)"
   ]
  },
  {
   "cell_type": "markdown",
   "metadata": {},
   "source": [
    "# "
   ]
  }
 ],
 "metadata": {
  "kernelspec": {
   "name": "python3",
   "language": "python",
   "display_name": "Python 3"
  },
  "language_info": {
   "name": "python",
   "version": "3.6.6",
   "mimetype": "text/x-python",
   "codemirror_mode": {
    "name": "ipython",
    "version": 3
   },
   "pygments_lexer": "ipython3",
   "nbconvert_exporter": "python",
   "file_extension": ".py"
  },
  "kernel_info": {
   "name": "python3"
  },
  "nteract": {
   "version": "0.11.9"
  }
 },
 "nbformat": 4,
 "nbformat_minor": 0
}
